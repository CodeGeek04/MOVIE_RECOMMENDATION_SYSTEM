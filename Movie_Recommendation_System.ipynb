{
 "cells": [
  {
   "cell_type": "code",
   "execution_count": 90,
   "id": "e2eacfc4",
   "metadata": {},
   "outputs": [],
   "source": [
    "import csv\n",
    "import pandas as pd\n",
    "import numpy as np\n",
    "from sklearn.cluster import KMeans\n",
    "import imdb\n",
    "import random"
   ]
  },
  {
   "cell_type": "code",
   "execution_count": 79,
   "id": "32abfcc7",
   "metadata": {},
   "outputs": [],
   "source": [
    "file1=open(\"movies.csv\",'r')\n",
    "file2=open(\"movies3.csv\",'r')\n",
    "csvreader1 = csv.reader(file1)\n",
    "csvreader2 = csv.reader(file2)"
   ]
  },
  {
   "cell_type": "code",
   "execution_count": 80,
   "id": "7c6af3f6",
   "metadata": {},
   "outputs": [],
   "source": [
    "pd_dict={'movie':[],'time_minute':[],'imdb_rating':[],'Action':[],'Adventure':[],'Fantasy':[],\n",
    "         'Sci-Fi':[],'Animation':[],'Comedy':[],'Family':[],'Mystery':[],'Romance':[],'Drama':[],\n",
    "         'Crime':[],'Thriller':[],'War':[],'Musical':[],'Biography':[]}\n",
    "\n",
    "lst=['Action','Adventure','Fantasy','Sci-Fi','Animation','Comedy',\n",
    "     'Family','Mystery','Romance','Drama','Crime','Thriller','War','Musical','Biography']"
   ]
  },
  {
   "cell_type": "code",
   "execution_count": 81,
   "id": "197f938c",
   "metadata": {},
   "outputs": [],
   "source": [
    "j=0\n",
    "for row in csvreader2:\n",
    "    if j==0:\n",
    "        j=1\n",
    "        continue\n",
    "    for i in range(len(lst)):\n",
    "        pd_dict[lst[i]].append(int(row[i+1]))\n",
    "j=0\n",
    "for row in csvreader1:\n",
    "    if j==0:\n",
    "        j=1\n",
    "        continue\n",
    "    if j==250:\n",
    "        break\n",
    "    pd_dict['movie'].append(row[1])\n",
    "    pd_dict['time_minute'].append(int(row[3].split()[0]))\n",
    "    pd_dict['imdb_rating'].append(float(row[4]))\n",
    "    j+=1\n"
   ]
  },
  {
   "cell_type": "code",
   "execution_count": 82,
   "id": "1b8ae369",
   "metadata": {},
   "outputs": [
    {
     "name": "stdout",
     "output_type": "stream",
     "text": [
      "movie           object\n",
      "time_minute      int64\n",
      "imdb_rating    float64\n",
      "Action           int64\n",
      "Adventure        int64\n",
      "Fantasy          int64\n",
      "Sci-Fi           int64\n",
      "Animation        int64\n",
      "Comedy           int64\n",
      "Family           int64\n",
      "Mystery          int64\n",
      "Romance          int64\n",
      "Drama            int64\n",
      "Crime            int64\n",
      "Thriller         int64\n",
      "War              int64\n",
      "Musical          int64\n",
      "Biography        int64\n",
      "dtype: object\n"
     ]
    },
    {
     "name": "stderr",
     "output_type": "stream",
     "text": [
      "C:\\Users\\shiva\\AppData\\Local\\Temp\\ipykernel_19492\\3960719479.py:3: FutureWarning: In a future version of pandas all arguments of DataFrame.drop except for the argument 'labels' will be keyword-only.\n",
      "  X=np.array(df.drop(['movie'],1))\n"
     ]
    }
   ],
   "source": [
    "df=pd.DataFrame(pd_dict)\n",
    "X=np.array(df.drop(['movie'],1))"
   ]
  },
  {
   "cell_type": "code",
   "execution_count": 83,
   "id": "17dcbd0b",
   "metadata": {},
   "outputs": [],
   "source": [
    "kmeans = KMeans(max_iter=300).fit(X)"
   ]
  },
  {
   "cell_type": "code",
   "execution_count": 115,
   "id": "7b41be34",
   "metadata": {},
   "outputs": [
    {
     "name": "stdout",
     "output_type": "stream",
     "text": [
      "5311514\n",
      "[106, 8.4, 0, 0, 1, 0, 1, 0, 0, 0, 1, 1, 0, 0, 0, 0, 0]\n"
     ]
    }
   ],
   "source": [
    "movie_name=\"Your Name\"\n",
    "ia=imdb.IMDb()\n",
    "items = ia.search_movie(movie_name)\n",
    "code = items[0].getID()\n",
    "print(code)\n",
    "series = ia.get_movie(code)\n",
    "genre = series.data['genres']\n",
    "time_minute=series.data['runtimes']\n",
    "rating=series.data['rating']\n",
    "x=[int(time_minute[0]),float(rating)]\n",
    "for i in lst:\n",
    "    if i in genre:\n",
    "        x.append(1)\n",
    "    else:\n",
    "        x.append(0)\n",
    "print(x)"
   ]
  },
  {
   "cell_type": "code",
   "execution_count": 119,
   "id": "58c3e306",
   "metadata": {},
   "outputs": [
    {
     "name": "stdout",
     "output_type": "stream",
     "text": [
      "ANOTHER MOVIE LIKE Your Name IS: The Thing\n"
     ]
    }
   ],
   "source": [
    "i=random.randint(1,249)\n",
    "test_x=X[i].reshape(1,-1)\n",
    "x=np.array(x)\n",
    "x=x.reshape(1,-1)\n",
    "# print(kmeans.predict(test_x))\n",
    "# print(kmeans.predict(x))\n",
    "pred=kmeans.predict(x)\n",
    "pred_test=kmeans.predict(test_x)\n",
    "while pred!=pred_test:\n",
    "    i=random.randint(1,249)\n",
    "    test_x=X[i].reshape(1,-1)\n",
    "    x=np.array(x)\n",
    "    x=x.reshape(1,-1)\n",
    "    pred_test=kmeans.predict(test_x)\n",
    "print('ANOTHER MOVIE LIKE',movie_name,'IS:',df['movie'][i])"
   ]
  },
  {
   "cell_type": "code",
   "execution_count": null,
   "id": "36d61a81",
   "metadata": {},
   "outputs": [],
   "source": []
  }
 ],
 "metadata": {
  "kernelspec": {
   "display_name": "Python 3 (ipykernel)",
   "language": "python",
   "name": "python3"
  },
  "language_info": {
   "codemirror_mode": {
    "name": "ipython",
    "version": 3
   },
   "file_extension": ".py",
   "mimetype": "text/x-python",
   "name": "python",
   "nbconvert_exporter": "python",
   "pygments_lexer": "ipython3",
   "version": "3.10.4"
  }
 },
 "nbformat": 4,
 "nbformat_minor": 5
}
